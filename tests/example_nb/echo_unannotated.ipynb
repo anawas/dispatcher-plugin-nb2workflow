{
 "cells": [
  {
   "cell_type": "code",
   "execution_count": 1,
   "metadata": {},
   "outputs": [],
   "source": [
    "from pprint import pformat"
   ]
  },
  {
   "cell_type": "code",
   "execution_count": 2,
   "metadata": {
    "tags": [
     "parameters"
    ]
   },
   "outputs": [],
   "source": [
    "RA = 0. \n",
    "DEC = 0. \n",
    "T1 = 50000. \n",
    "T2 = 50005. \n",
    "radius = 10. "
   ]
  },
  {
   "cell_type": "code",
   "execution_count": 3,
   "metadata": {},
   "outputs": [],
   "source": [
    "input_dict = dict(poi_ra=RA,\n",
    "                  poi_dec=DEC, \n",
    "                  start_time=T1,\n",
    "                  end_time=T2,\n",
    "                  radius=radius)"
   ]
  },
  {
   "cell_type": "code",
   "execution_count": 4,
   "metadata": {
    "tags": [
     "outputs"
    ]
   },
   "outputs": [],
   "source": [
    "output = pformat(input_dict) # oda:ODATextProduct"
   ]
  }
 ],
 "metadata": {
  "kernelspec": {
   "display_name": ".venv",
   "language": "python",
   "name": "python3"
  },
  "language_info": {
   "codemirror_mode": {
    "name": "ipython",
    "version": 3
   },
   "file_extension": ".py",
   "mimetype": "text/x-python",
   "name": "python",
   "nbconvert_exporter": "python",
   "pygments_lexer": "ipython3",
   "version": "3.8.16"
  },
  "orig_nbformat": 4,
  "vscode": {
   "interpreter": {
    "hash": "4503c487b0ef8b20a5a7f344b37b3295c09c2919002f234fc70d2f5e772ba95a"
   }
  }
 },
 "nbformat": 4,
 "nbformat_minor": 2
}
