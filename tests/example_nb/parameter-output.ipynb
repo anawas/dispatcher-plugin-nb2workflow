{
 "cells": [
  {
   "cell_type": "code",
   "execution_count": null,
   "metadata": {
    "tags": [
     "outputs"
    ]
   },
   "outputs": [],
   "source": [
    "mrk = 'Mrk 421' # oda:AstrophysicalObject\n",
    "flout = 4.2 # oda:Float\n",
    "intout = 4 # oda:Integer\n",
    "timeinst = 56457.0 # oda:TimeInstantMJD"
   ]
  }
 ],
 "metadata": {
  "kernelspec": {
   "display_name": ".venv",
   "language": "python",
   "name": "python3"
  },
  "language_info": {
   "name": "python",
   "version": "3.8.17"
  },
  "orig_nbformat": 4
 },
 "nbformat": 4,
 "nbformat_minor": 2
}
